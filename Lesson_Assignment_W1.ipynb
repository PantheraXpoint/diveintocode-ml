{
 "cells": [
  {
   "cell_type": "code",
   "execution_count": 1,
   "metadata": {},
   "outputs": [
    {
     "name": "stdout",
     "output_type": "stream",
     "text": [
      "After 26 foldings, the paper's thickness will reach the height of Mt.Fuji\n"
     ]
    }
   ],
   "source": [
    "import numpy as np \n",
    "THICKNESS = 0.00008\n",
    "folded_thickness = THICKNESS\n",
    "Fuji_height = 3776\n",
    "fold_times = 0\n",
    "while folded_thickness < Fuji_height:\n",
    "    folded_thickness *= 2\n",
    "    fold_times += 1\n",
    "print(\"After \" + str(fold_times) + \" foldings, the paper's thickness will reach the height of Mt.Fuji\")"
   ]
  },
  {
   "cell_type": "code",
   "execution_count": 7,
   "metadata": {},
   "outputs": [
    {
     "name": "stdout",
     "output_type": "stream",
     "text": [
      "The distance from Earth to closest non-sun star equivalent to 59 bends\n"
     ]
    }
   ],
   "source": [
    "import numpy as np\n",
    "THICKNESS = 0.00008\n",
    "def diffraction_count(distance = 40174991951811): # the non-sun star here is the Proxima Centauri\n",
    "    folded_thickness = THICKNESS\n",
    "    bend_times = 0\n",
    "    while folded_thickness < distance:\n",
    "        folded_thickness *= 2\n",
    "        bend_times += 1\n",
    "    return bend_times\n",
    "print(\"The distance from Earth to closest non-sun star equivalent to \" + str(diffraction_count()) + \" bends\")"
   ]
  },
  {
   "cell_type": "code",
   "execution_count": 12,
   "metadata": {},
   "outputs": [
    {
     "name": "stdout",
     "output_type": "stream",
     "text": [
      "Enter 'm' for moon distance\n",
      "'s' for star distance\n",
      "'f' for Mt.Fuji\n",
      "f\n",
      "The paper's length for the distance is:188646348487.24017 meters\n"
     ]
    }
   ],
   "source": [
    "import numpy as np\n",
    "THICKNESS = 0.00008\n",
    "\n",
    "\n",
    "\n",
    "def paper_length(distance):\n",
    "    def diffraction_count(distance):\n",
    "        folded_thickness = THICKNESS\n",
    "        bend_times = 0\n",
    "        while folded_thickness < distance:\n",
    "            folded_thickness *= 2\n",
    "            bend_times += 1\n",
    "        return bend_times\n",
    "    bend_times = diffraction_count(distance)\n",
    "    return (np.pi *THICKNESS / 6) * (2**bend_times + 4) *(2**bend_times - 1)\n",
    "\n",
    "distance = input(\"Enter 'm' for moon distance\\n\" + \"'s' for star distance\\n\" + \"'f' for Mt.Fuji\\n\")\n",
    "if (distance == 'm'):\n",
    "    distance = 384400000   #distance to the moon\n",
    "elif (distance == 's'):\n",
    "    distance = 40174991951811000 #distance to Proxima Centauri\n",
    "else:\n",
    "    distance = 3776\n",
    "pp_length = paper_length(distance)\n",
    "print(\"The paper's length for the distance is:{} meters\".format(pp_length))"
   ]
  },
  {
   "cell_type": "code",
   "execution_count": null,
   "metadata": {},
   "outputs": [],
   "source": []
  }
 ],
 "metadata": {
  "kernelspec": {
   "display_name": "Python 3",
   "language": "python",
   "name": "python3"
  },
  "language_info": {
   "codemirror_mode": {
    "name": "ipython",
    "version": 3
   },
   "file_extension": ".py",
   "mimetype": "text/x-python",
   "name": "python",
   "nbconvert_exporter": "python",
   "pygments_lexer": "ipython3",
   "version": "3.8.5"
  }
 },
 "nbformat": 4,
 "nbformat_minor": 4
}
