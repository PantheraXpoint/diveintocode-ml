{
 "cells": [
  {
   "cell_type": "code",
   "execution_count": 9,
   "metadata": {},
   "outputs": [
    {
     "name": "stdout",
     "output_type": "stream",
     "text": [
      "[[  6  29 -20]\n",
      " [ 12  52  38]\n",
      " [-18 -51 -48]]\n"
     ]
    }
   ],
   "source": [
    "import numpy as np \n",
    "a_ndarray = np.array([[-1, 2, 3], [4, -5, 6], [7, 8, -9]])\n",
    "b_ndarray = np.array([[0, 2, 1], [0, 2, -8], [2, 9, -1]])\n",
    "result = np.array([[0,0,0],[0,0,0],[0,0,0]])\n",
    "for i in range(len(a_ndarray)):\n",
    "    for j in range(len(b_ndarray[0])):\n",
    "        for k in range(len(a_ndarray)):\n",
    "            result[i][j] += a_ndarray[i][k] * b_ndarray[k][j]\n",
    "print(result)"
   ]
  },
  {
   "cell_type": "code",
   "execution_count": 10,
   "metadata": {},
   "outputs": [
    {
     "name": "stdout",
     "output_type": "stream",
     "text": [
      "[[  6  29 -20]\n",
      " [ 12  52  38]\n",
      " [-18 -51 -48]]\n",
      "[[  6  29 -20]\n",
      " [ 12  52  38]\n",
      " [-18 -51 -48]]\n"
     ]
    }
   ],
   "source": [
    "import numpy as np \n",
    "a_ndarray = np.array([[-1, 2, 3], [4, -5, 6], [7, 8, -9]])\n",
    "b_ndarray = np.array([[0, 2, 1], [0, 2, -8], [2, 9, -1]])\n",
    "result = np.dot(a_ndarray,b_ndarray)\n",
    "ret = a_ndarray@b_ndarray\n",
    "print(result)\n",
    "print(ret)"
   ]
  },
  {
   "cell_type": "code",
   "execution_count": 12,
   "metadata": {},
   "outputs": [
    {
     "name": "stdout",
     "output_type": "stream",
     "text": [
      "6\n"
     ]
    }
   ],
   "source": [
    "import numpy as np \n",
    "a_ndarray = np.array([[-1, 2, 3], [4, -5, 6], [7, 8, -9]])\n",
    "b_ndarray = np.array([[0, 2, 1], [0, 2, -8], [2, 9, -1]])\n",
    "ret = 0\n",
    "for i in range(len(a_ndarray)):\n",
    "    ret += a_ndarray[0][i] * b_ndarray[i][0]\n",
    "print(ret)"
   ]
  },
  {
   "cell_type": "code",
   "execution_count": 20,
   "metadata": {},
   "outputs": [
    {
     "name": "stdout",
     "output_type": "stream",
     "text": [
      "[[  6  29 -20]\n",
      " [ 12  52  38]\n",
      " [-18 -51 -48]]\n"
     ]
    }
   ],
   "source": [
    "import numpy as np \n",
    "a_ndarray = np.array([[-1, 2, 3], [4, -5, 6], [7, 8, -9]])\n",
    "b_ndarray = np.array([[0, 2, 1], [0, 2, -8], [2, 9, -1]])\n",
    "def matrix_mult(a_ndarray= [],b_ndarray= []):\n",
    "    result = np.array([[0,0,0],[0,0,0],[0,0,0]])\n",
    "    for i in range(len(a_ndarray)):\n",
    "        for j in range(len(b_ndarray[0])):\n",
    "            for k in range(len(a_ndarray)):\n",
    "                result[i][j] += a_ndarray[i][k] * b_ndarray[k][j]\n",
    "    print(result)\n",
    "matrix_mult(a_ndarray,b_ndarray)"
   ]
  },
  {
   "cell_type": "code",
   "execution_count": 22,
   "metadata": {},
   "outputs": [
    {
     "name": "stdout",
     "output_type": "stream",
     "text": [
      "[[ 21 -18   1]\n",
      " [-66  57   8]\n",
      " [  0   0   0]]\n"
     ]
    }
   ],
   "source": [
    "import numpy as np \n",
    "a_ndarray = np.array([[-1, 2, 3], [4, -5, 6]])\n",
    "b_ndarray = np.array([[-9, 8, 7], [6, -5, 4]])\n",
    "def matrix_mult(a_ndarray= [],b_ndarray= []):\n",
    "    result = np.array([[0,0,0],[0,0,0],[0,0,0]])\n",
    "    for i in range(len(a_ndarray)):\n",
    "        for j in range(len(b_ndarray[0])):\n",
    "            for k in range(len(a_ndarray)):\n",
    "                result[i][j] += a_ndarray[i][k] * b_ndarray[k][j]\n",
    "    print(result)\n",
    "matrix_mult(a_ndarray,b_ndarray)"
   ]
  },
  {
   "cell_type": "code",
   "execution_count": 27,
   "metadata": {},
   "outputs": [
    {
     "name": "stdout",
     "output_type": "stream",
     "text": [
      "[[14  4]\n",
      " [ 4 77]]\n"
     ]
    }
   ],
   "source": [
    "import numpy as np\n",
    "a_ndarray = np.array([[-1, 2, 3], [4, -5, 6]])\n",
    "def matrix_product(a_ndarray = []):\n",
    "    one_way = np.transpose(a_ndarray)\n",
    "    return np.dot(a_ndarray,one_way),np.dot(one_way,a_ndarray)\n",
    "print(matrix_product(a_ndarray))"
   ]
  },
  {
   "cell_type": "code",
   "execution_count": null,
   "metadata": {},
   "outputs": [],
   "source": []
  }
 ],
 "metadata": {
  "kernelspec": {
   "display_name": "Python 3",
   "language": "python",
   "name": "python3"
  },
  "language_info": {
   "codemirror_mode": {
    "name": "ipython",
    "version": 3
   },
   "file_extension": ".py",
   "mimetype": "text/x-python",
   "name": "python",
   "nbconvert_exporter": "python",
   "pygments_lexer": "ipython3",
   "version": "3.8.5"
  }
 },
 "nbformat": 4,
 "nbformat_minor": 4
}
