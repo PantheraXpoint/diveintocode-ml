{
 "cells": [
  {
   "cell_type": "code",
   "execution_count": 6,
   "metadata": {},
   "outputs": [
    {
     "data": {
      "image/png": "[encoded data removed]",
      "text/plain": [
       "<Figure size 432x288 with 1 Axes>"
      ]
     },
     "metadata": {
      "needs_background": "light"
     },
     "output_type": "display_data"
    },
    {
     "name": "stdout",
     "output_type": "stream",
     "text": [
      "1267650600228229401496703205374\n"
     ]
    }
   ],
   "source": [
    "import matplotlib.pyplot as plt\n",
    "list = []\n",
    "grain_total = 1\n",
    "for i in range(1,100):\n",
    "    grain_total *= 2\n",
    "    list.append(grain_total)\n",
    "plt.title(\"the change in the number of rice grains on x day\")\n",
    "plt.xlabel(\"number of days\")\n",
    "plt.ylabel(\"number of rice\")\n",
    "plt.plot(list) # Enter the variable name of the list in \"List name\"\n",
    "plt.show()\n",
    "print(sum(list))"
   ]
  },
  {
   "cell_type": "code",
   "execution_count": 25,
   "metadata": {},
   "outputs": [
    {
     "ename": "SyntaxError",
     "evalue": "invalid syntax (<ipython-input-25-3bde03777860>, line 25)",
     "output_type": "error",
     "traceback": [
      "\u001b[1;36m  File \u001b[1;32m\"<ipython-input-25-3bde03777860>\"\u001b[1;36m, line \u001b[1;32m25\u001b[0m\n\u001b[1;33m    return list_n_grains, list_total_grains\u001b[0m\n\u001b[1;37m    ^\u001b[0m\n\u001b[1;31mSyntaxError\u001b[0m\u001b[1;31m:\u001b[0m invalid syntax\n"
     ]
    }
   ],
   "source": [
    "\n",
    "def compute_sorori_shinzaemon(day=100):\n",
    "    \"\"\"\n",
    "    A function that verifies the anecdote of rice by Sorori Shinzaemon. Calculate the number of rice grains per day.\n",
    "    Parameteres\n",
    "    --------------\n",
    "    day: int\n",
    "        Number of days to get rice (default : 100)\n",
    "    Returns\n",
    "    --------------\n",
    "    list_n_grains : list\n",
    "        List of the number of rice you get one day (the length of the list is equal to day)\n",
    "    list_total_grains : list\n",
    "        List of the total number of rice you will receive by a certain day (the length of the list will be equal to day)\n",
    "    \"\"\"\n",
    "    # Write the code here. pass is an instruction that means do nothing.\n",
    "    list_n_grains = []\n",
    "    list_total_grains = []\n",
    "    grain_d = 1\n",
    "    list_n_grains.append(grain_d)\n",
    "    list_total_grains.append(grain_d)\n",
    "    for i in range(1,100):\n",
    "        grain_d *= 2\n",
    "        list_n_grains.append(grain_d)\n",
    "        list_total_grains.append(list_total_grains[i - 1] + (list_n_grains[i]))\n",
    "    return list_n_grains, list_total_grains\n",
    "                                 \n",
    "list_n_grains, list_total_grains = compute_sorori_shinzaemon(day=10)\n",
    "                                 plt.title(\"the change in the number of rice grains on x day\")\n",
    "plt.xlabel(\"number of days\")\n",
    "plt.ylabel(\"number of rice\")\n",
    "plt.plot(list_n_grains)\n",
    "plt.plot(list_total_grains)\n",
    "plt.show()"
   ]
  },
  {
   "cell_type": "code",
   "execution_count": null,
   "metadata": {},
   "outputs": [],
   "source": []
  },
  {
   "cell_type": "code",
   "execution_count": null,
   "metadata": {},
   "outputs": [],
   "source": []
  }
 ],
 "metadata": {
  "kernelspec": {
   "display_name": "Python 3",
   "language": "python",
   "name": "python3"
  },
  "language_info": {
   "codemirror_mode": {
    "name": "ipython",
    "version": 3
   },
   "file_extension": ".py",
   "mimetype": "text/x-python",
   "name": "python",
   "nbconvert_exporter": "python",
   "pygments_lexer": "ipython3",
   "version": "3.8.5"
  }
 },
 "nbformat": 4,
 "nbformat_minor": 4
}
