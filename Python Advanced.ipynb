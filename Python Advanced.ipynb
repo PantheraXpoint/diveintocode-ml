{
 "cells": [
  {
   "cell_type": "code",
   "execution_count": 4,
   "id": "22fa1285",
   "metadata": {},
   "outputs": [],
   "source": [
    "import math\n",
    "import statistics\n",
    "import random\n",
    "import os\n",
    "import glob"
   ]
  },
  {
   "cell_type": "code",
   "execution_count": 6,
   "id": "e3af4a67",
   "metadata": {},
   "outputs": [
    {
     "name": "stdout",
     "output_type": "stream",
     "text": [
      "3.6\n",
      "4.3\n",
      "3.141592653589793\n",
      "1.0\n"
     ]
    }
   ],
   "source": [
    "new_list = [1,4,6,2,5]\n",
    "\n",
    "print(statistics.mean(new_list))\n",
    "print(statistics.variance(new_list))\n",
    "print(math.pi)\n",
    "print(math.cos(2*math.pi))"
   ]
  },
  {
   "cell_type": "code",
   "execution_count": 8,
   "id": "0750359a",
   "metadata": {},
   "outputs": [
    {
     "name": "stdout",
     "output_type": "stream",
     "text": [
      "2\n",
      "0.7579544029403025\n",
      "8\n"
     ]
    }
   ],
   "source": [
    "random.seed(0) #sets the random generator to always produce the same result\n",
    "\n",
    "print(random.choice(new_list)) #selects an item at random from the list\n",
    "print(random.random()) #generates a random number between 0 and 1\n",
    "print(random.randint(5,10)) #generates a random integer between 5 and 10"
   ]
  },
  {
   "cell_type": "code",
   "execution_count": 9,
   "id": "c4915bfb",
   "metadata": {},
   "outputs": [
    {
     "data": {
      "text/plain": [
       "[5, 33, 65, 62, 51, 38, 61, 45, 74, 27]"
      ]
     },
     "execution_count": 9,
     "metadata": {},
     "output_type": "execute_result"
    }
   ],
   "source": [
    "random.sample(range(100),10) #return a list of 10 random numbers between 0 and 100"
   ]
  },
  {
   "cell_type": "code",
   "execution_count": 10,
   "id": "a84763e6",
   "metadata": {},
   "outputs": [
    {
     "name": "stdout",
     "output_type": "stream",
     "text": [
      "Initial list [1, 4, 6, 2, 5]\n",
      "mixes list [6, 1, 2, 4, 5]\n"
     ]
    }
   ],
   "source": [
    "print('Initial list', new_list)\n",
    "random.shuffle(new_list) #mixes the element of a list\n",
    "print('mixes list', new_list)\n"
   ]
  },
  {
   "cell_type": "code",
   "execution_count": 14,
   "id": "3a47959d",
   "metadata": {},
   "outputs": [
    {
     "name": "stdout",
     "output_type": "stream",
     "text": [
      "Quang 21 HCMUT\n"
     ]
    }
   ],
   "source": [
    "class Student:\n",
    "    def __init__(self,name,age,university):\n",
    "        \"\"\"initialize student attributes\"\"\"\n",
    "        self.name = name\n",
    "        self.age = age\n",
    "        self.university = university\n",
    "    def presentation(self):\n",
    "        print(\"{} {} {}\".format(self.name, self.age, self.university))\n",
    "        \n",
    "student_1 = Student(\"Quang\",21,\"HCMUT\")\n",
    "student_1.presentation()"
   ]
  },
  {
   "cell_type": "code",
   "execution_count": 15,
   "id": "ac4963a8",
   "metadata": {},
   "outputs": [],
   "source": [
    "del student_1.university\n",
    "student_1.presentation()\n",
    "del student_1\n",
    "student_1.presentation()"
   ]
  },
  {
   "cell_type": "code",
   "execution_count": null,
   "id": "b5c983bc",
   "metadata": {},
   "outputs": [],
   "source": []
  }
 ],
 "metadata": {
  "kernelspec": {
   "display_name": "Python 3",
   "language": "python",
   "name": "python3"
  },
  "language_info": {
   "codemirror_mode": {
    "name": "ipython",
    "version": 3
   },
   "file_extension": ".py",
   "mimetype": "text/x-python",
   "name": "python",
   "nbconvert_exporter": "python",
   "pygments_lexer": "ipython3",
   "version": "3.8.8"
  }
 },
 "nbformat": 4,
 "nbformat_minor": 5
}
