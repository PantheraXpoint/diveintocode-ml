{
 "cells": [
  {
   "cell_type": "code",
   "execution_count": 38,
   "metadata": {},
   "outputs": [
    {
     "name": "stdout",
     "output_type": "stream",
     "text": [
      "Arrange wheat on a plate of 2 x 2 squares (ndarray)：[[1, 2], [4, 8]]\n"
     ]
    }
   ],
   "source": [
    "import numpy as np\n",
    "\n",
    "n_squares = x\n",
    "small_board_list = [1]\n",
    "for _ in range(n_squares - 1):\n",
    "    small_board_list.append(2*small_board_list[-1])\n",
    "small_board_ndarray = np.array(small_board_list).reshape(2,2)\n",
    "result = small_board_ndarray.tolist()\n",
    "print(\"Arrange wheat on a plate of 2 x 2 squares (ndarray)：{}\".format(result))"
   ]
  },
  {
   "cell_type": "code",
   "execution_count": 44,
   "metadata": {},
   "outputs": [
    {
     "name": "stdout",
     "output_type": "stream",
     "text": [
      "Enter number of elements: 64\n",
      "Enter the size of n rows: 8\n",
      "Enter the size of m columns: 8\n",
      "Arrange wheat on a plate of 8 x 8 squares (ndarray): [[1.0, 2.0, 4.0, 8.0, 16.0, 32.0, 64.0, 128.0], [256.0, 512.0, 1024.0, 2048.0, 4096.0, 8192.0, 16384.0, 32768.0], [65536.0, 131072.0, 262144.0, 524288.0, 1048576.0, 2097152.0, 4194304.0, 8388608.0], [16777216.0, 33554432.0, 67108864.0, 134217728.0, 268435456.0, 536870912.0, 1073741824.0, 2147483648.0], [4294967296.0, 8589934592.0, 17179869184.0, 34359738368.0, 68719476736.0, 137438953472.0, 274877906944.0, 549755813888.0], [1099511627776.0, 2199023255552.0, 4398046511104.0, 8796093022208.0, 17592186044416.0, 35184372088832.0, 70368744177664.0, 140737488355328.0], [281474976710656.0, 562949953421312.0, 1125899906842624.0, 2251799813685248.0, 4503599627370496.0, 9007199254740992.0, 1.8014398509481984e+16, 3.602879701896397e+16], [7.205759403792794e+16, 1.4411518807585587e+17, 2.8823037615171174e+17, 5.764607523034235e+17, 1.152921504606847e+18, 2.305843009213694e+18, 4.611686018427388e+18, 9.223372036854776e+18]]\n"
     ]
    }
   ],
   "source": [
    "import numpy as np\n",
    "n_squares = int(input(\"Enter number of elements: \"))\n",
    "board_list = [1]\n",
    "for _ in range(n_squares - 1):\n",
    "    board_list.append(2 * board_list[-1])\n",
    "n = int(input(\"Enter the size of n rows: \"))\n",
    "m = int(input(\"Enter the size of m columns: \"))\n",
    "board_ndarray = np.array(board_list).reshape(n,m)\n",
    "result = board_ndarray.tolist() \n",
    "print(\"Arrange wheat on a plate of {} x {} squares (ndarray): {}\".format(n,m,result))"
   ]
  },
  {
   "cell_type": "code",
   "execution_count": 87,
   "metadata": {},
   "outputs": [
    {
     "name": "stdout",
     "output_type": "stream",
     "text": [
      "Enter number of elements: 64\n",
      "Enter the size of n rows: 8\n",
      "Enter the size of m columns: 8\n",
      "The sum is: 1.8446744073709552e+19\n"
     ]
    },
    {
     "data": {
      "image/png": "[encoded data removed]",
      "text/plain": [
       "<Figure size 432x288 with 1 Axes>"
      ]
     },
     "metadata": {
      "needs_background": "light"
     },
     "output_type": "display_data"
    }
   ],
   "source": [
    "import numpy as np\n",
    "import matplotlib.pyplot as plt\n",
    "n_squares = int(input(\"Enter number of elements: \"))\n",
    "board_list = [1]\n",
    "for _ in range(n_squares - 1):\n",
    "    board_list.append(2 * board_list[-1])\n",
    "n = int(input(\"Enter the size of n rows: \"))\n",
    "m = int(input(\"Enter the size of m columns: \"))\n",
    "board_ndarray = np.array(board_list).reshape(n,m)\n",
    "S = 0 \n",
    "T = 0\n",
    "for i in range(len(board_ndarray)):\n",
    "    for j in range(len(board_ndarray[i])):\n",
    "        S += board_ndarray[i][j]\n",
    "print(\"The sum is: \" + str(S))\n",
    "for i in board_ndarray:\n",
    "    T += i\n",
    "%matplotlib inline\n",
    "plt.xlabel(\"column\")\n",
    "plt.ylabel(\"number\")\n",
    "plt.title(\"number in each column\")\n",
    "plt.bar(np.arange(1,int(len(T)) + 1), T)\n",
    "plt.show()"
   ]
  },
  {
   "cell_type": "markdown",
   "metadata": {},
   "source": []
  },
  {
   "cell_type": "code",
   "execution_count": 2,
   "metadata": {},
   "outputs": [
    {
     "name": "stdout",
     "output_type": "stream",
     "text": [
      "Enter number of elements: 64\n",
      "Enter the size of n rows: 8\n",
      "Enter the size of m columns: 8\n"
     ]
    },
    {
     "data": {
      "image/png": "[encoded data removed]",
      "text/plain": [
       "<Figure size 432x288 with 1 Axes>"
      ]
     },
     "metadata": {
      "needs_background": "light"
     },
     "output_type": "display_data"
    }
   ],
   "source": [
    "import matplotlib.pyplot as plt\n",
    "import numpy as np\n",
    "n_squares = int(input(\"Enter number of elements: \"))\n",
    "board_list = [1]\n",
    "for _ in range(n_squares - 1):\n",
    "    board_list.append(2 * board_list[-1])\n",
    "n = int(input(\"Enter the size of n rows: \"))\n",
    "m = int(input(\"Enter the size of m columns: \"))\n",
    "board_ndarray = np.array(board_list).reshape(n,m)\n",
    "plt.xlabel(\"column\")\n",
    "plt.ylabel(\"row\")\n",
    "plt.title(\"heatmap\")\n",
    "plt.pcolor(board_ndarray)\n",
    "plt.show()"
   ]
  },
  {
   "cell_type": "code",
   "execution_count": 14,
   "metadata": {},
   "outputs": [
    {
     "name": "stdout",
     "output_type": "stream",
     "text": [
      "Enter number of elements: 64\n",
      "Enter the size of n rows: 8\n",
      "Enter the size of m columns: 8\n",
      "The ratio of the 2 halfs is: 4294967296.0\n"
     ]
    }
   ],
   "source": [
    "import numpy as np\n",
    "import matplotlib.pyplot as plt\n",
    "n_squares = int(input(\"Enter number of elements: \"))\n",
    "board_list = [1]\n",
    "for _ in range(n_squares - 1):\n",
    "    board_list.append(2 * board_list[-1])\n",
    "n = int(input(\"Enter the size of n rows: \"))\n",
    "m = int(input(\"Enter the size of m columns: \"))\n",
    "board_ndarray = np.array(board_list).reshape(n,m)\n",
    "S1 = 0 \n",
    "S2 = 0\n",
    "i = 0\n",
    "while i < len(board_ndarray) / 2:\n",
    "    S1 += board_ndarray[i]\n",
    "    i += 1\n",
    "while i < len(board_ndarray):\n",
    "    S2 += board_ndarray[i]\n",
    "    i += 1\n",
    "sum1 = 0\n",
    "sum2 = 0\n",
    "for j in range(len(S1)):\n",
    "    sum1 += S1[j]\n",
    "for j in range(len(S2)):\n",
    "    sum2 += S2[j]\n",
    "print(\"The ratio of the 2 halfs is: \" + str(sum2 / sum1))"
   ]
  },
  {
   "cell_type": "code",
   "execution_count": 69,
   "metadata": {},
   "outputs": [
    {
     "name": "stdout",
     "output_type": "stream",
     "text": [
      "Enter the size of n rows: 10\n",
      "Enter the size of m columns: 10\n",
      "Arrange wheat on a plate of 10 x 10 squares (ndarray): [[1, 2, 4, 8, 16, 32, 64, 128, 256, 512], [1024, 2048, 4096, 8192, 16384, 32768, 65536, 131072, 262144, 524288], [1048576, 2097152, 4194304, 8388608, 16777216, 33554432, 67108864, 134217728, 268435456, 536870912], [1073741824, 2147483648, 4294967296, 8589934592, 17179869184, 34359738368, 68719476736, 137438953472, 274877906944, 549755813888], [1099511627776, 2199023255552, 4398046511104, 8796093022208, 17592186044416, 35184372088832, 70368744177664, 140737488355328, 281474976710656, 562949953421312], [1125899906842624, 2251799813685248, 4503599627370496, 9007199254740992, 18014398509481984, 36028797018963968, 72057594037927936, 144115188075855872, 288230376151711744, 576460752303423488], [1152921504606846976, 2305843009213693952, 4611686018427387904, 9223372036854775808, 18446744073709551616, 36893488147419103232, 73786976294838206464, 147573952589676412928, 295147905179352825856, 590295810358705651712], [1180591620717411303424, 2361183241434822606848, 4722366482869645213696, 9444732965739290427392, 18889465931478580854784, 37778931862957161709568, 75557863725914323419136, 151115727451828646838272, 302231454903657293676544, 604462909807314587353088], [1208925819614629174706176, 2417851639229258349412352, 4835703278458516698824704, 9671406556917033397649408, 19342813113834066795298816, 38685626227668133590597632, 77371252455336267181195264, 154742504910672534362390528, 309485009821345068724781056, 618970019642690137449562112], [1237940039285380274899124224, 2475880078570760549798248448, 4951760157141521099596496896, 9903520314283042199192993792, 19807040628566084398385987584, 39614081257132168796771975168, 79228162514264337593543950336, 158456325028528675187087900672, 316912650057057350374175801344, 633825300114114700748351602688]]\n",
      "\n",
      "\n",
      "Arrange wheat on a plate of 10 x 10 squares (ndarray)：[[1.0, 2.0, 4.0, 8.0, 16.0, 32.0, 64.0, 128.0, 256.0, 512.0], [1024.0, 2048.0, 4096.0, 8192.0, 16384.0, 32768.0, 65536.0, 131072.0, 262144.0, 524288.0], [1048576.0, 2097152.0, 4194304.0, 8388608.0, 16777216.0, 33554432.0, 67108864.0, 134217728.0, 268435456.0, 536870912.0], [1073741824.0, 2147483648.0, 4294967296.0, 8589934592.0, 17179869184.0, 34359738368.0, 68719476736.0, 137438953472.0, 274877906944.0, 549755813888.0], [1099511627776.0, 2199023255552.0, 4398046511104.0, 8796093022208.0, 17592186044416.0, 35184372088832.0, 70368744177664.0, 140737488355328.0, 281474976710656.0, 562949953421312.0], [1125899906842624.0, 2251799813685248.0, 4503599627370496.0, 9007199254740992.0, 1.8014398509481984e+16, 3.602879701896397e+16, 7.205759403792794e+16, 1.4411518807585587e+17, 2.8823037615171174e+17, 5.764607523034235e+17], [1.152921504606847e+18, 2.305843009213694e+18, 4.611686018427388e+18, 9.223372036854776e+18, 1.8446744073709552e+19, 3.6893488147419103e+19, 7.378697629483821e+19, 1.4757395258967641e+20, 2.9514790517935283e+20, 5.902958103587057e+20], [1.1805916207174113e+21, 2.3611832414348226e+21, 4.722366482869645e+21, 9.44473296573929e+21, 1.888946593147858e+22, 3.777893186295716e+22, 7.555786372591432e+22, 1.5111572745182865e+23, 3.022314549036573e+23, 6.044629098073146e+23], [1.2089258196146292e+24, 2.4178516392292583e+24, 4.835703278458517e+24, 9.671406556917033e+24, 1.9342813113834067e+25, 3.8685626227668134e+25, 7.737125245533627e+25, 1.5474250491067253e+26, 3.094850098213451e+26, 6.189700196426902e+26], [1.2379400392853803e+27, 2.4758800785707605e+27, 4.951760157141521e+27, 9.903520314283042e+27, 1.9807040628566084e+28, 3.961408125713217e+28, 7.922816251426434e+28, 1.5845632502852868e+29, 3.1691265005705735e+29, 6.338253001141147e+29]]\n",
      "\n",
      "\n",
      "Arrange wheat on a plate of 10 x 10 squares (ndarray)：[[1, 2, 4, 8, 16, 32, 64, 128, 256, 512], [1024, 2048, 4096, 8192, 16384, 32768, 65536, 131072, 262144, 524288], [1048576, 2097152, 4194304, 8388608, 16777216, 33554432, 67108864, 134217728, 268435456, 536870912], [1073741824, 2147483648, 4294967296, 8589934592, 17179869184, 34359738368, 68719476736, 137438953472, 274877906944, 549755813888], [1099511627776, 2199023255552, 4398046511104, 8796093022208, 17592186044416, 35184372088832, 70368744177664, 140737488355328, 281474976710656, 562949953421312], [1125899906842624, 2251799813685248, 4503599627370496, 9007199254740992, 18014398509481984, 36028797018963968, 72057594037927936, 144115188075855872, 288230376151711744, 576460752303423488], [1152921504606846976, 2305843009213693952, 4611686018427387904, 9223372036854775808, 0, 0, 0, 0, 0, 0], [0, 0, 0, 0, 0, 0, 0, 0, 0, 0], [0, 0, 0, 0, 0, 0, 0, 0, 0, 0], [0, 0, 0, 0, 0, 0, 0, 0, 0, 0]]\n",
      "\n",
      "\n"
     ]
    }
   ],
   "source": [
    "import numpy as np\n",
    "def prob2_method(n,m):\n",
    "    n_squares = n * m\n",
    "    board_list = [1]\n",
    "    for _ in range(n_squares - 1):\n",
    "        board_list.append(2 * board_list[-1])\n",
    "    board_ndarray = np.array(board_list).reshape(n,m)\n",
    "    result = board_ndarray.tolist() \n",
    "    print(\"Arrange wheat on a plate of {} x {} squares (ndarray): {}\\n\\n\".format(n,m,result))\n",
    "def np_using(n,m):\n",
    "    n_squares = n * m\n",
    "    small_board_ndarray = np.array([1]).astype(np.uint64)\n",
    "    for _ in range(n_squares - 1):\n",
    "        small_board_ndarray = np.append(small_board_ndarray, 2*small_board_ndarray[-1])\n",
    "    board_ndarray = np.array(small_board_ndarray).reshape(n,m)\n",
    "    result = board_ndarray.tolist()\n",
    "    print(\"Arrange wheat on a plate of {} x {} squares (ndarray)：{}\\n\\n\".format(n,m,result))\n",
    "def broadcast_using(n,m):\n",
    "    n_squares = n * m\n",
    "    indices_of_squares = np.arange(n_squares).astype(np.uint64)\n",
    "    small_board_ndarray = 2**indices_of_squares\n",
    "    board_ndarray = np.array(small_board_ndarray).reshape(n,m)\n",
    "    result = board_ndarray.tolist()\n",
    "    print(\"Arrange wheat on a plate of {} x {} squares (ndarray)：{}\\n\\n\".format(n,m,result))\n",
    "n = int(input(\"Enter the size of n rows: \"))\n",
    "m = int(input(\"Enter the size of m columns: \"))\n",
    "\n",
    "prob2_method(n,m)\n",
    "\n",
    "np_using(n,m)\n",
    "\n",
    "broadcast_using(n,m)\n"
   ]
  },
  {
   "cell_type": "code",
   "execution_count": 25,
   "metadata": {},
   "outputs": [
    {
     "name": "stdout",
     "output_type": "stream",
     "text": [
      "Enter the size of n rows: 12\n",
      "Enter the size of m columns: 6\n",
      "Arrange wheat on a plate of 12 x 6 squares (ndarray): [[1, 2, 4, 8, 16, 32], [64, 128, 256, 512, 1024, 2048], [4096, 8192, 16384, 32768, 65536, 131072], [262144, 524288, 1048576, 2097152, 4194304, 8388608], [16777216, 33554432, 67108864, 134217728, 268435456, 536870912], [1073741824, 2147483648, 4294967296, 8589934592, 17179869184, 34359738368], [68719476736, 137438953472, 274877906944, 549755813888, 1099511627776, 2199023255552], [4398046511104, 8796093022208, 17592186044416, 35184372088832, 70368744177664, 140737488355328], [281474976710656, 562949953421312, 1125899906842624, 2251799813685248, 4503599627370496, 9007199254740992], [18014398509481984, 36028797018963968, 72057594037927936, 144115188075855872, 288230376151711744, 576460752303423488], [1152921504606846976, 2305843009213693952, 4611686018427387904, 9223372036854775808, 18446744073709551616, 36893488147419103232], [73786976294838206464, 147573952589676412928, 295147905179352825856, 590295810358705651712, 1180591620717411303424, 2361183241434822606848]]\n",
      "\n",
      "\n",
      "Arrange wheat on a plate of 12 x 6 squares (ndarray)：[[1.0, 2.0, 4.0, 8.0, 16.0, 32.0], [64.0, 128.0, 256.0, 512.0, 1024.0, 2048.0], [4096.0, 8192.0, 16384.0, 32768.0, 65536.0, 131072.0], [262144.0, 524288.0, 1048576.0, 2097152.0, 4194304.0, 8388608.0], [16777216.0, 33554432.0, 67108864.0, 134217728.0, 268435456.0, 536870912.0], [1073741824.0, 2147483648.0, 4294967296.0, 8589934592.0, 17179869184.0, 34359738368.0], [68719476736.0, 137438953472.0, 274877906944.0, 549755813888.0, 1099511627776.0, 2199023255552.0], [4398046511104.0, 8796093022208.0, 17592186044416.0, 35184372088832.0, 70368744177664.0, 140737488355328.0], [281474976710656.0, 562949953421312.0, 1125899906842624.0, 2251799813685248.0, 4503599627370496.0, 9007199254740992.0], [1.8014398509481984e+16, 3.602879701896397e+16, 7.205759403792794e+16, 1.4411518807585587e+17, 2.8823037615171174e+17, 5.764607523034235e+17], [1.152921504606847e+18, 2.305843009213694e+18, 4.611686018427388e+18, 9.223372036854776e+18, 1.8446744073709552e+19, 3.6893488147419103e+19], [7.378697629483821e+19, 1.4757395258967641e+20, 2.9514790517935283e+20, 5.902958103587057e+20, 1.1805916207174113e+21, 2.3611832414348226e+21]]\n",
      "\n",
      "\n",
      "Arrange wheat on a plate of 12 x 6 squares (ndarray)：[[1, 2, 4, 8, 16, 32], [64, 128, 256, 512, 1024, 2048], [4096, 8192, 16384, 32768, 65536, 131072], [262144, 524288, 1048576, 2097152, 4194304, 8388608], [16777216, 33554432, 67108864, 134217728, 268435456, 536870912], [1073741824, 2147483648, 4294967296, 8589934592, 17179869184, 34359738368], [68719476736, 137438953472, 274877906944, 549755813888, 1099511627776, 2199023255552], [4398046511104, 8796093022208, 17592186044416, 35184372088832, 70368744177664, 140737488355328], [281474976710656, 562949953421312, 1125899906842624, 2251799813685248, 4503599627370496, 9007199254740992], [18014398509481984, 36028797018963968, 72057594037927936, 144115188075855872, 288230376151711744, 576460752303423488], [1152921504606846976, 2305843009213693952, 4611686018427387904, 9223372036854775808, 0, 0], [0, 0, 0, 0, 0, 0]]\n",
      "\n",
      "\n",
      "time for problem2 method: 0.0017735958099365234[s]\n",
      "time for np_using method: 0.003429889678955078[s]\n",
      "time for broadcast_using method: 0.00037407875061035156[s]\n"
     ]
    }
   ],
   "source": [
    "import time\n",
    "import numpy as np\n",
    "def prob2_method(n,m):\n",
    "    n_squares = n * m\n",
    "    board_list = [1]\n",
    "    for _ in range(n_squares - 1):\n",
    "        board_list.append(2 * board_list[-1])\n",
    "    board_ndarray = np.array(board_list).reshape(n,m)\n",
    "    result = board_ndarray.tolist() \n",
    "    print(\"Arrange wheat on a plate of {} x {} squares (ndarray): {}\\n\\n\".format(n,m,result))\n",
    "def np_using(n,m):\n",
    "    n_squares = n * m\n",
    "    small_board_ndarray = np.array([1]).astype(np.uint64)\n",
    "    for _ in range(n_squares - 1):\n",
    "        small_board_ndarray = np.append(small_board_ndarray, 2*small_board_ndarray[-1])\n",
    "    board_ndarray = np.array(small_board_ndarray).reshape(n,m)\n",
    "    result = board_ndarray.tolist()\n",
    "    print(\"Arrange wheat on a plate of {} x {} squares (ndarray)：{}\\n\\n\".format(n,m,result))\n",
    "def broadcast_using(n,m):\n",
    "    n_squares = n * m\n",
    "    indices_of_squares = np.arange(n_squares).astype(np.uint64)\n",
    "    small_board_ndarray = 2**indices_of_squares\n",
    "    board_ndarray = np.array(small_board_ndarray).reshape(n,m)\n",
    "    result = board_ndarray.tolist()\n",
    "    print(\"Arrange wheat on a plate of {} x {} squares (ndarray)：{}\\n\\n\".format(n,m,result))\n",
    "n = int(input(\"Enter the size of n rows: \"))\n",
    "m = int(input(\"Enter the size of m columns: \"))\n",
    "\n",
    "start1 = time.time()\n",
    "time.sleep(0.5)\n",
    "\n",
    "prob2_method(n,m)\n",
    "\n",
    "elapsed_time1 = (time.time() - start1 - 0.5)\n",
    "time.sleep(0.5)\n",
    "start2 = time.time()\n",
    "time.sleep(0.5)\n",
    "\n",
    "np_using(n,m)\n",
    "\n",
    "elapsed_time2 = (time.time() - start2 - 0.5)\n",
    "\n",
    "time.sleep(0.5)\n",
    "start3 = time.time()\n",
    "time.sleep(0.5)\n",
    "\n",
    "broadcast_using(n,m)\n",
    "\n",
    "elapsed_time3 = (time.time() - start3 - 0.5)\n",
    "print(\"time for problem2 method: {}[s]\".format(elapsed_time1))\n",
    "print(\"time for np_using method: {}[s]\".format(elapsed_time2))\n",
    "print(\"time for broadcast_using method: {}[s]\".format(elapsed_time3))"
   ]
  }
 ],
 "metadata": {
  "kernelspec": {
   "display_name": "Python 3",
   "language": "python",
   "name": "python3"
  },
  "language_info": {
   "codemirror_mode": {
    "name": "ipython",
    "version": 3
   },
   "file_extension": ".py",
   "mimetype": "text/x-python",
   "name": "python",
   "nbconvert_exporter": "python",
   "pygments_lexer": "ipython3",
   "version": "3.8.8"
  }
 },
 "nbformat": 4,
 "nbformat_minor": 4
}
