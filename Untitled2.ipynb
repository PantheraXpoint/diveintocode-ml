{
 "cells": [
  {
   "cell_type": "code",
   "execution_count": 1,
   "metadata": {},
   "outputs": [
    {
     "name": "stdout",
     "output_type": "stream",
     "text": [
      "SQL Server\n",
      "SQL Server Native Client 11.0\n",
      "SQL Anywhere 17\n",
      "ODBC Driver 17 for SQL Server\n",
      "ODBC Driver 11 for SQL Server\n"
     ]
    }
   ],
   "source": [
    "import pyodbc \n",
    "for driver in pyodbc.drivers():\n",
    "    print(driver)"
   ]
  },
  {
   "cell_type": "code",
   "execution_count": 2,
   "metadata": {},
   "outputs": [],
   "source": [
    "server = 'DESKTOP-DVKREVU\\SQLEXPRESS'\n",
    "database = 'RECIPE_APP'\n",
    "user ='sa'\n",
    "password = '123456789'\n",
    "cnxn = pyodbc.connect ('DRIVER={ODBC Driver 11 for SQL Server}; \\\n",
    "                        SERVER='+server + '; \\\n",
    "                        DATABASE='+ database +';\\\n",
    "                        UID=' + user +'; \\\n",
    "                        PWD=' + password)"
   ]
  },
  {
   "cell_type": "code",
   "execution_count": 24,
   "metadata": {},
   "outputs": [
    {
     "name": "stdout",
     "output_type": "stream",
     "text": [
      "[(1, 12, 13, 14, '12/5')]\n"
     ]
    }
   ],
   "source": [
    "cursor = cnxn.cursor()\n",
    "\n",
    "cursor.execute('SELECT * FROM DONATION_REC')\n",
    "row = cursor.fetchall()\n",
    "print(row)"
   ]
  },
  {
   "cell_type": "code",
   "execution_count": 16,
   "metadata": {
    "scrolled": true
   },
   "outputs": [
    {
     "name": "stdout",
     "output_type": "stream",
     "text": [
      "('RECIPE_APP', 'dbo', 'DONATION_REC', None, None, None, 0, None, None, None, 0, 0, None)\n",
      "('RECIPE_APP', 'dbo', 'DONATION_REC', 0, 'DONATION_REC', 'PK__DONATION__955E9BA15CDDDE6D', 1, 1, 'DON_ID', 'A', 0, 0, None)\n"
     ]
    }
   ],
   "source": [
    "for stat in cursor.statistics(table=\"DONATION_REC\"):\n",
    "    print(stat)"
   ]
  }
 ],
 "metadata": {
  "kernelspec": {
   "display_name": "Python 3",
   "language": "python",
   "name": "python3"
  },
  "language_info": {
   "codemirror_mode": {
    "name": "ipython",
    "version": 3
   },
   "file_extension": ".py",
   "mimetype": "text/x-python",
   "name": "python",
   "nbconvert_exporter": "python",
   "pygments_lexer": "ipython3",
   "version": "3.8.5"
  }
 },
 "nbformat": 4,
 "nbformat_minor": 4
}
